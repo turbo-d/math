{
 "cells": [
  {
   "cell_type": "code",
   "execution_count": 1,
   "id": "69381da0-f8dd-4218-a9dc-39ff6af9b4b2",
   "metadata": {},
   "outputs": [],
   "source": [
    "# 1\n",
    "# The two lines never touch. Alternatively we could say that the lines have the same slope, but different y-intercepts (and x-intercepts)"
   ]
  },
  {
   "cell_type": "code",
   "execution_count": 2,
   "id": "2d929eae-e701-4918-af0d-16508ff30d47",
   "metadata": {},
   "outputs": [],
   "source": [
    "# 3\n",
    "# If the degree of the polynomial is 1, then the graph will be a straight line"
   ]
  },
  {
   "cell_type": "code",
   "execution_count": 3,
   "id": "f21c0ed8-77ec-4c4b-a02f-f7d8985d9838",
   "metadata": {},
   "outputs": [],
   "source": [
    "# 5\n",
    "# We are trying to find values of x that will make the equation (proposition) true, if they exist. x = 5, or x = 1 would result in division by zero which is undefined"
   ]
  },
  {
   "cell_type": "code",
   "execution_count": 4,
   "id": "22bc300d-69b3-4eca-83e6-1295eee85b63",
   "metadata": {},
   "outputs": [],
   "source": [
    "# 7\n",
    "# 4x - 3 = 5\n",
    "# 4x = 8\n",
    "# x = 2"
   ]
  },
  {
   "cell_type": "code",
   "execution_count": 5,
   "id": "7bb86de2-c520-4e6f-b7b2-c528c558a632",
   "metadata": {},
   "outputs": [],
   "source": [
    "# 9\n",
    "# 12 - 5(x + 3) = 2x - 5\n",
    "# 12 - 5x - 15 = 2x - 5\n",
    "# 2 = 7x\n",
    "# x = 2/7"
   ]
  },
  {
   "cell_type": "code",
   "execution_count": 6,
   "id": "a752ee33-2bbd-4b0b-9502-4cc68afd2e3e",
   "metadata": {},
   "outputs": [],
   "source": [
    "# 11\n",
    "# x/3 - 3/4 = (2x + 3)/12\n",
    "# 4x/12 - 9/12 = (2x + 3)/12\n",
    "# 4x - 9 = 2x + 3\n",
    "# 2x = 12\n",
    "# x = 6"
   ]
  },
  {
   "cell_type": "code",
   "execution_count": 7,
   "id": "dc393fa9-6769-4600-bad4-3da5c3253068",
   "metadata": {},
   "outputs": [],
   "source": [
    "# 13\n",
    "# 3(2x - 1) + x = 5x + 3\n",
    "# 6x - 3 + x = 5x + 3\n",
    "# 2x = 0\n",
    "# x = 0"
   ]
  },
  {
   "cell_type": "code",
   "execution_count": 8,
   "id": "0e160d4e-e7bd-45d5-b712-8171319df1f6",
   "metadata": {},
   "outputs": [],
   "source": [
    "# 15\n",
    "# (x + 2)/4 - (x - 1)/3 = 2\n",
    "# 3(x + 2)/12 - 4(x - 1)/12 = 2\n",
    "# 3(x + 2) - 4(x - 1) = 24\n",
    "# 3x + 6 - 4x + 4 = 24\n",
    "# -x = 14\n",
    "# x = -14"
   ]
  },
  {
   "cell_type": "code",
   "execution_count": 10,
   "id": "fc96d77d-ee32-4a5d-b1d0-9dc420f7d381",
   "metadata": {},
   "outputs": [],
   "source": [
    "# 17\n",
    "# 2 - 3/(x + 4) = (x + 2)/(x + 4)\n",
    "# 2(x + 4) - 3 = x + 2\n",
    "# 2x + 8 - 3 = x + 2\n",
    "# x = -3, exclude x = -4"
   ]
  },
  {
   "cell_type": "code",
   "execution_count": 14,
   "id": "ad8c9427-f0ed-4eb4-8311-f08cb679a605",
   "metadata": {},
   "outputs": [],
   "source": [
    "# 19\n",
    "# 3x/(x - 1) + 2 = 3/(x - 1)\n",
    "# 3x + 2(x - 1) = 3\n",
    "# 3x + 2x - 2 = 3\n",
    "# 5x = 5\n",
    "# x = 1, exclude x = 1. No solution"
   ]
  },
  {
   "cell_type": "code",
   "execution_count": 15,
   "id": "d2250928-c583-4856-84ef-ff3a94cd2e7c",
   "metadata": {},
   "outputs": [],
   "source": [
    "# 21\n",
    "# 1/x = 1/5 + 3/2x\n",
    "# 2 = 2x/5 + 3\n",
    "# 10 = 2x + 15\n",
    "# -5 = 2x\n",
    "# x = -5/2, exclude x = 0"
   ]
  },
  {
   "cell_type": "code",
   "execution_count": 27,
   "id": "5706be95-501e-473b-9175-75046adde111",
   "metadata": {},
   "outputs": [],
   "source": [
    "# 23\n",
    "# m = (y2 - y1)/(x2 - x1)\n",
    "\n",
    "# positive x\n",
    "# m = (y - y_int)/(x - 0)\n",
    "# mx = y - y_int\n",
    "# y_int = -mx + y\n",
    "\n",
    "# negative x\n",
    "# m = (y_int - y)/(0 - x)\n",
    "# -mx = y_int - y\n",
    "# y_int = -mx + y\n",
    "\n",
    "# y_int = -(-4/5)*1 + 2\n",
    "# y_int = 4/5 + 2\n",
    "# y_int = 14/5\n",
    "\n",
    "# slope-intercept form:\n",
    "# y = -(4/5)x + 14/5\n",
    "\n",
    "# point-slope formula:\n",
    "# y - y1 = m(x - x1)\n",
    "\n",
    "# y - 2 = m(x - 1)\n",
    "# y = mx - m + 2\n",
    "# y = (-4/5)x - (-4/5) + 10/5\n",
    "# y = -(4/5)x + 14/5"
   ]
  },
  {
   "cell_type": "code",
   "execution_count": 28,
   "id": "2200bc25-10ab-41c6-b78c-1000a4f0b55c",
   "metadata": {},
   "outputs": [],
   "source": [
    "# 25\n",
    "# point-slope formula:\n",
    "# y - y1 = m(x - x1)\n",
    "# 2 - (-1) = m(0 - 4)\n",
    "# 3 = m(-4)\n",
    "# m = -3/4\n",
    "# y = -3/4*x + 2"
   ]
  },
  {
   "cell_type": "code",
   "execution_count": 29,
   "id": "570bdf4e-8755-4635-b6f5-a8f515f249f8",
   "metadata": {},
   "outputs": [],
   "source": [
    "# 27\n",
    "# point-slope formula:\n",
    "# y - y1 = m(x - x1)\n",
    "# 3 - 5 = m(1 - 5)\n",
    "# -2 = m(-4)\n",
    "# m = 1/2\n",
    "\n",
    "# y - 3 = (1/2)(x - 1)\n",
    "# y = (1/2)x - 1/2 + 3\n",
    "# y = (1/2)x + 5/2"
   ]
  },
  {
   "cell_type": "code",
   "execution_count": 30,
   "id": "4cf8e2d8-dca6-4d07-b7d2-ac6143267c02",
   "metadata": {},
   "outputs": [],
   "source": [
    "# 29\n",
    "# 3y = x - 4\n",
    "# y = (1/3)x - 4/3\n",
    "\n",
    "# a perpendicular line has the slope:\n",
    "# m = -3\n",
    "\n",
    "# y - y1 = m(x - x1)\n",
    "# y - 1 = -3(x - (-2))\n",
    "# y = -3x - 6 + 1\n",
    "# y = -3x - 5"
   ]
  },
  {
   "cell_type": "code",
   "execution_count": 31,
   "id": "3b328470-1a9b-440b-a45c-4440fa3c9290",
   "metadata": {},
   "outputs": [],
   "source": [
    "# 31\n",
    "# m = (7 - 7)/(3 - 1)\n",
    "# m = 0\n",
    "# y = 7"
   ]
  },
  {
   "cell_type": "code",
   "execution_count": 32,
   "id": "8753e9ce-804c-4f59-9249-9dfcfd69a480",
   "metadata": {},
   "outputs": [],
   "source": [
    "# 33\n",
    "# y = -4"
   ]
  },
  {
   "cell_type": "code",
   "execution_count": 33,
   "id": "b60b8f4d-403a-4d8b-8af4-f7ceb7c24798",
   "metadata": {},
   "outputs": [],
   "source": [
    "# 35\n",
    "# m = (-5 - 3)/(4 - (-1))\n",
    "# m = -8/5\n",
    "\n",
    "# y - 3 = -(8/5)(x - (-1))\n",
    "# y = -(8/5)x - 8/5 + 15/5\n",
    "# y = -(8/5)x + 7/5"
   ]
  },
  {
   "cell_type": "code",
   "execution_count": 2,
   "id": "d50789b0-2dfe-4e47-8089-a7d30107147d",
   "metadata": {},
   "outputs": [],
   "source": [
    "import math\n",
    "import numpy as np\n",
    "import matplotlib.pyplot as plt"
   ]
  },
  {
   "cell_type": "code",
   "execution_count": 3,
   "id": "3b569bed-d136-4b39-ad06-8b64dc1effb9",
   "metadata": {},
   "outputs": [],
   "source": [
    "def xy_cart_plane(size):\n",
    "    fig, ax = plt.subplots(figsize=(5, 5))\n",
    "    ax.set_aspect('equal')\n",
    "    \n",
    "    ax.set_xlim([-(size+1), size+1])\n",
    "    ax.set_ylim([-(size+1), size+1])\n",
    "    \n",
    "    ax.spines.left.set_position('zero')\n",
    "    ax.spines.bottom.set_position('zero')\n",
    "    ax.spines.right.set_visible(False)\n",
    "    ax.spines.top.set_visible(False)\n",
    "    \n",
    "    ticks = np.arange(-size, size+1)\n",
    "    ax.set_xticks(ticks[ticks != 0])\n",
    "    ax.set_yticks(ticks[ticks != 0])\n",
    "    \n",
    "    ax.grid(color='grey', linestyle='dotted')\n",
    "    \n",
    "    ax.plot(1, 0, \">k\", transform=ax.get_yaxis_transform(), clip_on=False)\n",
    "    ax.plot(0, 1, \"^k\", transform=ax.get_xaxis_transform(), clip_on=False)\n",
    "    \n",
    "    ax.set_xlabel('x', size=14, labelpad=-23, x=1.04)\n",
    "    ax.set_ylabel('y', size=14, labelpad=-23, y=1.04, rotation='horizontal')\n",
    "\n",
    "    return ax"
   ]
  },
  {
   "cell_type": "code",
   "execution_count": 4,
   "id": "2955bf1a-7d5d-45cc-acec-e8c718d2b377",
   "metadata": {},
   "outputs": [
    {
     "data": {
      "text/plain": [
       "[<matplotlib.lines.Line2D at 0xffff5dcf6bd0>]"
      ]
     },
     "execution_count": 4,
     "metadata": {},
     "output_type": "execute_result"
    },
    {
     "data": {
      "image/png": "[encoded data removed]",
      "text/plain": [
       "<Figure size 500x500 with 1 Axes>"
      ]
     },
     "metadata": {},
     "output_type": "display_data"
    }
   ],
   "source": [
    "# 37\n",
    "# 3x - 2y = 5\n",
    "# 2y = 3x - 5\n",
    "# y = (3/2)x - 5/2\n",
    "\n",
    "# 6y - 9x = 6\n",
    "# 6y = 9x + 6\n",
    "# y = (3/2)x + 1\n",
    "\n",
    "# parallel\n",
    "\n",
    "xs = np.arange(-5, 6)\n",
    "y1s = 3/2*xs - 5/2\n",
    "y2s = 3/2*xs + 1\n",
    "ax = xy_cart_plane(5)\n",
    "ax.plot(xs, y1s)\n",
    "ax.plot(xs, y2s)"
   ]
  },
  {
   "cell_type": "code",
   "execution_count": 9,
   "id": "d6cfadf5-aa95-493c-8a24-fa6a40b9d9be",
   "metadata": {},
   "outputs": [
    {
     "data": {
      "text/plain": [
       "[<matplotlib.lines.Line2D at 0xffff5ba42910>]"
      ]
     },
     "execution_count": 9,
     "metadata": {},
     "output_type": "execute_result"
    },
    {
     "data": {
      "image/png": "[encoded data removed]",
      "text/plain": [
       "<Figure size 500x500 with 1 Axes>"
      ]
     },
     "metadata": {},
     "output_type": "display_data"
    }
   ],
   "source": [
    "# 39\n",
    "# x = 4\n",
    "# y = -3\n",
    "\n",
    "# perpendicular\n",
    "\n",
    "x1s = np.full(11, 4)\n",
    "y1s = np.arange(-5, 6)\n",
    "\n",
    "x2s = np.arange(-5, 6)\n",
    "y2s = np.full(11, -3)\n",
    "\n",
    "ax = xy_cart_plane(5)\n",
    "ax.plot(x1s, y1s)\n",
    "ax.plot(x2s, y2s)"
   ]
  },
  {
   "cell_type": "code",
   "execution_count": 10,
   "id": "bce0b7d8-0984-4985-9e3c-460514622360",
   "metadata": {},
   "outputs": [
    {
     "name": "stdout",
     "output_type": "stream",
     "text": [
      "-1.2857142857142858\n"
     ]
    }
   ],
   "source": [
    "# 41\n",
    "m = (-7 - 2)/(4 - (-3))\n",
    "print(m)"
   ]
  },
  {
   "cell_type": "code",
   "execution_count": 11,
   "id": "a5909c2a-df96-47be-b4e9-66a77bdf16ca",
   "metadata": {},
   "outputs": [
    {
     "name": "stdout",
     "output_type": "stream",
     "text": [
      "1.5\n"
     ]
    }
   ],
   "source": [
    "# 43\n",
    "m = (4 - (-2))/(3 - (-1))\n",
    "print(m)"
   ]
  },
  {
   "cell_type": "code",
   "execution_count": 13,
   "id": "fdde40f3-b644-40bd-9c81-32cf931d73bf",
   "metadata": {},
   "outputs": [
    {
     "name": "stdout",
     "output_type": "stream",
     "text": [
      "-0.3333333333333333\n",
      "3.0\n"
     ]
    }
   ],
   "source": [
    "# 45\n",
    "m1 = (1 - 3)/(5 - (-1))\n",
    "print(m1)\n",
    "\n",
    "m2 = (9 - 3)/(0 - (-2))\n",
    "print(m2)\n",
    "\n",
    "# perpendicular"
   ]
  },
  {
   "cell_type": "code",
   "execution_count": 14,
   "id": "994b94de-5770-494a-a2f5-d74bd5ea737a",
   "metadata": {},
   "outputs": [],
   "source": [
    "# 51\n",
    "# Ax + By = C\n",
    "# By = C - Ax\n",
    "# y = -(A/B)x + C/B"
   ]
  },
  {
   "cell_type": "code",
   "execution_count": 15,
   "id": "71410158-5d94-4f0c-a332-3668abefbb5f",
   "metadata": {},
   "outputs": [],
   "source": [
    "# 53\n",
    "# A: (-1, 1)\n",
    "# B: (2, 0)\n",
    "# C: (3, 3)\n",
    "# D: (0, 4)\n",
    "\n",
    "# m_AB = (0 - 1)/(2 - (-1))\n",
    "# m_AB = -1/3\n",
    "# m_BC = (3 - 0)/(3 - 2)\n",
    "# m_BC = 3\n",
    "# m_CD = (4 - 3)/(0 - 3)\n",
    "# m_CD = -1/3\n",
    "# m_DA = (1 - 4)/(-1 - 0)\n",
    "# m_DA = 3"
   ]
  },
  {
   "cell_type": "code",
   "execution_count": 17,
   "id": "cf2721dd-4322-4f83-b8ac-bd4d411e725d",
   "metadata": {},
   "outputs": [],
   "source": [
    "# 55\n",
    "# m = delt_y/delt_x\n",
    "# 1/12 = 2.5/x\n",
    "# x = 2.5/(1/12)\n",
    "# x = 2.5*12\n",
    "# x = 30 ft"
   ]
  },
  {
   "cell_type": "code",
   "execution_count": 18,
   "id": "6711026f-2097-4fbf-979d-159c40e280fd",
   "metadata": {},
   "outputs": [
    {
     "name": "stdout",
     "output_type": "stream",
     "text": [
      "57.5\n"
     ]
    }
   ],
   "source": [
    "# 57\n",
    "y = 45 + 0.25*50\n",
    "print(y)"
   ]
  },
  {
   "cell_type": "code",
   "execution_count": 19,
   "id": "158273a3-393a-4fc2-84a3-10b39c2fe490",
   "metadata": {},
   "outputs": [
    {
     "name": "stdout",
     "output_type": "stream",
     "text": [
      "220.0\n"
     ]
    }
   ],
   "source": [
    "# 59\n",
    "print(55/0.25)"
   ]
  },
  {
   "cell_type": "code",
   "execution_count": null,
   "id": "8565e6c0-da29-4c57-a196-0f06e5ec2322",
   "metadata": {},
   "outputs": [],
   "source": []
  }
 ],
 "metadata": {
  "kernelspec": {
   "display_name": "Python 3 (ipykernel)",
   "language": "python",
   "name": "python3"
  },
  "language_info": {
   "codemirror_mode": {
    "name": "ipython",
    "version": 3
   },
   "file_extension": ".py",
   "mimetype": "text/x-python",
   "name": "python",
   "nbconvert_exporter": "python",
   "pygments_lexer": "ipython3",
   "version": "3.11.4"
  }
 },
 "nbformat": 4,
 "nbformat_minor": 5
}
