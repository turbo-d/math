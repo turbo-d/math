{
 "cells": [
  {
   "cell_type": "code",
   "execution_count": 1,
   "id": "3ec497e6-b72a-42ee-926f-9a75c41102c7",
   "metadata": {},
   "outputs": [],
   "source": [
    "import math\n",
    "import numpy as np\n",
    "import matplotlib.pyplot as plt"
   ]
  },
  {
   "cell_type": "markdown",
   "id": "207770d5-6485-40a9-ae5c-c590b37a4428",
   "metadata": {
    "jp-MarkdownHeadingCollapsed": true
   },
   "source": [
    "**1\\.** Irrational. It cannot be written as a fraction.\n",
    "   \n",
    "**3\\.** For a given operation that is associative, the associative properties allow us to evaluate the operations of that type in any order."
   ]
  },
  {
   "cell_type": "markdown",
   "id": "8b79b0b4-3b35-43e2-b78b-28ae3913f2fe",
   "metadata": {},
   "source": [
    "**5\\.** \\\n",
    "$6\\div2-(81\\div3^2)$ \\\n",
    "$6\\div2-(81\\div9)$ \\\n",
    "$3-(9)$ \\\n",
    "$-6$"
   ]
  },
  {
   "cell_type": "code",
   "execution_count": 10,
   "id": "c73c7962-3053-4364-b37a-222f66555cf3",
   "metadata": {},
   "outputs": [
    {
     "name": "stdout",
     "output_type": "stream",
     "text": [
      "-6.0\n"
     ]
    }
   ],
   "source": [
    "print(6/2-(81/3**2))"
   ]
  },
  {
   "cell_type": "code",
   "execution_count": 6,
   "id": "2e60a679-f5fb-4b23-a88d-9727fd2c455c",
   "metadata": {},
   "outputs": [
    {
     "name": "stdout",
     "output_type": "stream",
     "text": [
      "-9\n"
     ]
    }
   ],
   "source": [
    "# 9\n",
    "print(3*(5 - 8))"
   ]
  },
  {
   "cell_type": "markdown",
   "id": "b8bbd4b6-5e59-45c9-900e-8ac1c8d9f8e0",
   "metadata": {},
   "source": [
    "**29\\.** \\\n",
    "$4y + 8 = 2y$ \\\n",
    "$4y+8=2y$"
   ]
  },
  {
   "cell_type": "markdown",
   "id": "8a7e0a52-9b38-41c9-a8ba-c6579a5988d0",
   "metadata": {},
   "source": [
    "$2y+8=0$ \\\n",
    "$2y=-8$ \\\n",
    "$y=-4$"
   ]
  },
  {
   "cell_type": "markdown",
   "id": "49a632a3-0ad1-4ec0-b4d4-44939ebdfb91",
   "metadata": {},
   "source": [
    "**39\\.** \\\n",
    "$2y-(4)^2y-11$"
   ]
  },
  {
   "cell_type": "markdown",
   "id": "9fa822b8-7d0b-42ee-aa1a-67418ae43c1f",
   "metadata": {},
   "source": [
    "$2y - 16y - 11$ \\\n",
    "$-14y - 11$"
   ]
  },
  {
   "cell_type": "code",
   "execution_count": null,
   "id": "c28c8ca1-27a7-4f18-a83a-f678cf43880f",
   "metadata": {},
   "outputs": [],
   "source": []
  }
 ],
 "metadata": {
  "kernelspec": {
   "display_name": "Python 3 (ipykernel)",
   "language": "python",
   "name": "python3"
  },
  "language_info": {
   "codemirror_mode": {
    "name": "ipython",
    "version": 3
   },
   "file_extension": ".py",
   "mimetype": "text/x-python",
   "name": "python",
   "nbconvert_exporter": "python",
   "pygments_lexer": "ipython3",
   "version": "3.11.4"
  }
 },
 "nbformat": 4,
 "nbformat_minor": 5
}
