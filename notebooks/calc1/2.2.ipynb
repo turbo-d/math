{
 "cells": [
  {
   "cell_type": "code",
   "execution_count": 1,
   "id": "53ec151d-f12c-4ebd-861d-3de49d8da2c5",
   "metadata": {},
   "outputs": [],
   "source": [
    "import math\n",
    "import numpy as np\n",
    "import matplotlib.pyplot as plt"
   ]
  },
  {
   "cell_type": "code",
   "execution_count": 2,
   "id": "dbbcf0f2-77f6-4016-9e0c-73667611c742",
   "metadata": {},
   "outputs": [],
   "source": [
    "def xy_cart_plane(size):\n",
    "    fig, ax = plt.subplots(figsize=(5, 5))\n",
    "    ax.set_aspect('equal')\n",
    "    \n",
    "    ax.set_xlim([-(size+1), size+1])\n",
    "    ax.set_ylim([-(size+1), size+1])\n",
    "    \n",
    "    ax.spines.left.set_position('zero')\n",
    "    ax.spines.bottom.set_position('zero')\n",
    "    ax.spines.right.set_visible(False)\n",
    "    ax.spines.top.set_visible(False)\n",
    "    \n",
    "    ticks = np.arange(-size, size+1)\n",
    "    ax.set_xticks(ticks[ticks != 0])\n",
    "    ax.set_yticks(ticks[ticks != 0])\n",
    "    \n",
    "    ax.grid(color='grey', linestyle='dotted')\n",
    "    \n",
    "    ax.plot(1, 0, \">k\", transform=ax.get_yaxis_transform(), clip_on=False)\n",
    "    ax.plot(0, 1, \"^k\", transform=ax.get_xaxis_transform(), clip_on=False)\n",
    "    \n",
    "    ax.set_xlabel('x', size=14, labelpad=-23, x=1.04)\n",
    "    ax.set_ylabel('y', size=14, labelpad=-23, y=1.04, rotation='horizontal')\n",
    "\n",
    "    return ax"
   ]
  },
  {
   "cell_type": "code",
   "execution_count": 3,
   "id": "42df98ad-e106-44c3-9ad2-b8e7b02856c5",
   "metadata": {},
   "outputs": [
    {
     "name": "stdout",
     "output_type": "stream",
     "text": [
      "[[ 0.9    -1.9   ]\n",
      " [ 0.99   -1.99  ]\n",
      " [ 0.999  -1.999 ]\n",
      " [ 0.999  -1.999 ]\n",
      " [ 1.1     2.1   ]\n",
      " [ 1.01    2.01  ]\n",
      " [ 1.001   2.001 ]\n",
      " [ 1.0001  2.0001]]\n"
     ]
    }
   ],
   "source": [
    "# 30 & 31\n",
    "xs = np.array([0.9, 0.99, 0.999, 0.999, 1.1, 1.01, 1.001, 1.0001])\n",
    "ys = (xs**2 - 1)/(np.abs(xs - 1))\n",
    "print(np.column_stack((xs, ys)))\n",
    "\n",
    "# the two sided limit as x approaches 1 is undefined, or does not exist."
   ]
  },
  {
   "cell_type": "code",
   "execution_count": 4,
   "id": "bf3d0231-6c3f-49ca-a8e1-88ed3a485f12",
   "metadata": {},
   "outputs": [
    {
     "name": "stdout",
     "output_type": "stream",
     "text": [
      "[[-1.00000000e-02  2.73199903e+00]\n",
      " [-1.00000000e-03  2.71964222e+00]\n",
      " [-1.00000000e-04  2.71841776e+00]\n",
      " [-1.00000000e-05  2.71829542e+00]\n",
      " [ 1.00000000e-02  2.70481383e+00]\n",
      " [ 1.00000000e-03  2.71692393e+00]\n",
      " [ 1.00000000e-04  2.71814593e+00]\n",
      " [ 1.00000000e-05  2.71826824e+00]]\n",
      "2.718281828459045\n"
     ]
    }
   ],
   "source": [
    "# 32 & 33 & 24\n",
    "xs = np.array([-0.01, -0.001, -0.0001, -0.00001, 0.01, 0.001, 0.0001, 0.00001])\n",
    "ys = (1 + xs)**(1/xs)\n",
    "print(np.column_stack((xs, ys)))\n",
    "\n",
    "# the table indicates that the limit of f(x) as x approaches 0 is ~2.718 or more specifically e.\n",
    "\n",
    "print(np.e)"
   ]
  },
  {
   "cell_type": "code",
   "execution_count": 7,
   "id": "3e697622-b6bb-4df9-b681-f2357d72f79e",
   "metadata": {},
   "outputs": [
    {
     "name": "stdout",
     "output_type": "stream",
     "text": [
      "[[-1.00000000e-01  1.98669331e+00]\n",
      " [-1.00000000e-02  1.99986667e+00]\n",
      " [-1.00000000e-03  1.99999867e+00]\n",
      " [-1.00000000e-04  1.99999999e+00]\n",
      " [ 1.00000000e-01  1.98669331e+00]\n",
      " [ 1.00000000e-02  1.99986667e+00]\n",
      " [ 1.00000000e-03  1.99999867e+00]\n",
      " [ 1.00000000e-04  1.99999999e+00]]\n",
      "[[-1.00000000e-01  2.95520207e+00]\n",
      " [-1.00000000e-02  2.99955002e+00]\n",
      " [-1.00000000e-03  2.99999550e+00]\n",
      " [-1.00000000e-04  2.99999996e+00]\n",
      " [ 1.00000000e-01  2.95520207e+00]\n",
      " [ 1.00000000e-02  2.99955002e+00]\n",
      " [ 1.00000000e-03  2.99999550e+00]\n",
      " [ 1.00000000e-04  2.99999996e+00]]\n"
     ]
    }
   ],
   "source": [
    "# 35 & 36 & 37\n",
    "xs = np.array([-0.1, -0.01, -0.001, -0.0001, 0.1, 0.01, 0.001, 0.0001])\n",
    "ys = np.sin(2*xs)/xs\n",
    "print(np.column_stack((xs, ys)))\n",
    "ys = np.sin(3*xs)/xs\n",
    "print(np.column_stack((xs, ys)))\n",
    "\n",
    "# conjecture: the limit as x approaches 0 of sin(ax)/x is a"
   ]
  },
  {
   "cell_type": "code",
   "execution_count": 15,
   "id": "302f30e3-e00b-4e38-96e2-b67e03e0fb76",
   "metadata": {},
   "outputs": [
    {
     "name": "stdout",
     "output_type": "stream",
     "text": [
      "[[ 0.9    -0.8   ]\n",
      " [ 0.99   -0.98  ]\n",
      " [ 0.999  -0.998 ]\n",
      " [ 0.9999 -0.9998]\n",
      " [ 1.1    -1.2   ]\n",
      " [ 1.01   -1.02  ]\n",
      " [ 1.001  -1.002 ]\n",
      " [ 1.0001 -1.0002]]\n",
      "-1.00000000\n"
     ]
    }
   ],
   "source": [
    "# 39\n",
    "xs = np.array([0.9, 0.99, 0.999, 0.9999, 1.1, 1.01, 1.001, 1.0001])\n",
    "ys = (1 - 2*xs)\n",
    "print(np.column_stack((xs, ys)))\n",
    "print(\"%.8f\"%-1)"
   ]
  },
  {
   "cell_type": "code",
   "execution_count": 33,
   "id": "dae7ed02-9f24-406a-9a8f-e602da20e951",
   "metadata": {},
   "outputs": [
    {
     "name": "stdout",
     "output_type": "stream",
     "text": [
      "[[-1.00000000e-01 -3.79310345e+01]\n",
      " [-1.00000000e-02 -3.37792642e+03]\n",
      " [-1.00000000e-03 -3.33777926e+05]\n",
      " [-1.00000000e-04 -3.33377779e+07]\n",
      " [ 1.00000000e-01 -2.90322581e+01]\n",
      " [ 1.00000000e-02 -3.28903654e+03]\n",
      " [ 1.00000000e-03 -3.32889037e+05]\n",
      " [ 1.00000000e-04 -3.33288890e+07]]\n"
     ]
    }
   ],
   "source": [
    "# 41\n",
    "xs = np.array([-0.1, -0.01, -0.001, -0.0001, 0.1, 0.01, 0.001, 0.0001])\n",
    "ys = (xs - 1)/((xs**2)*(xs + 3))\n",
    "print(np.column_stack((xs, ys)))\n",
    "# -inf"
   ]
  },
  {
   "cell_type": "code",
   "execution_count": 18,
   "id": "41fb4ea6-3cb2-4812-923d-05e7035b90ce",
   "metadata": {},
   "outputs": [
    {
     "name": "stdout",
     "output_type": "stream",
     "text": [
      "[[1.9        0.13495277]\n",
      " [1.99       0.125943  ]\n",
      " [1.999      0.1250938 ]\n",
      " [1.9999     0.12500938]\n",
      " [2.1        0.11614402]\n",
      " [2.01       0.12406794]\n",
      " [2.001      0.1249063 ]\n",
      " [2.0001     0.12499063]]\n",
      "0.12500000\n"
     ]
    }
   ],
   "source": [
    "# 43\n",
    "xs = np.array([1.9, 1.99, 1.999, 1.9999, 2.1, 2.01, 2.001, 2.0001])\n",
    "ys = (1 - (2/xs))/(xs**2 - 4)\n",
    "print(np.column_stack((xs, ys)))\n",
    "print(\"%.8f\"%(1/8))"
   ]
  },
  {
   "cell_type": "code",
   "execution_count": 31,
   "id": "b36b5c8b-916b-4d48-bfe5-75db2b5f057a",
   "metadata": {},
   "outputs": [
    {
     "name": "stdout",
     "output_type": "stream",
     "text": [
      "[[1.e-01 1.e+01]\n",
      " [1.e-02 1.e+02]\n",
      " [1.e-03 1.e+03]\n",
      " [1.e-04 1.e+04]]\n"
     ]
    },
    {
     "data": {
      "text/plain": [
       "[<matplotlib.lines.Line2D at 0xffff62004cd0>]"
      ]
     },
     "execution_count": 31,
     "metadata": {},
     "output_type": "execute_result"
    },
    {
     "data": {
      "image/png": "[encoded data removed]",
      "text/plain": [
       "<Figure size 500x500 with 1 Axes>"
      ]
     },
     "metadata": {},
     "output_type": "display_data"
    }
   ],
   "source": [
    "# 45\n",
    "xs = np.array([0.1, 0.01, 0.001, 0.0001])\n",
    "ys = (1/xs)*np.cos(np.pi/xs)\n",
    "print(np.column_stack((xs, ys)))\n",
    "\n",
    "# conjecture: the limit as x approaches 0 from the right is +inf\n",
    "\n",
    "ax = xy_cart_plane(5)\n",
    "\n",
    "xs = np.arange(-5, 6, .1)\n",
    "ys = (1/xs)*np.cos(np.pi/xs)\n",
    "ax.plot(xs, ys)\n",
    "\n",
    "# the conjecture appears to be false. The limit does not exist actually"
   ]
  },
  {
   "cell_type": "code",
   "execution_count": null,
   "id": "2c427b4b-76c2-4193-8ff5-9eda9a47c711",
   "metadata": {},
   "outputs": [],
   "source": []
  }
 ],
 "metadata": {
  "kernelspec": {
   "display_name": "Python 3 (ipykernel)",
   "language": "python",
   "name": "python3"
  },
  "language_info": {
   "codemirror_mode": {
    "name": "ipython",
    "version": 3
   },
   "file_extension": ".py",
   "mimetype": "text/x-python",
   "name": "python",
   "nbconvert_exporter": "python",
   "pygments_lexer": "ipython3",
   "version": "3.11.4"
  }
 },
 "nbformat": 4,
 "nbformat_minor": 5
}
