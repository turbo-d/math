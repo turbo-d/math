{
 "cells": [
  {
   "cell_type": "code",
   "execution_count": 1,
   "id": "53ec151d-f12c-4ebd-861d-3de49d8da2c5",
   "metadata": {},
   "outputs": [],
   "source": [
    "import math\n",
    "import numpy as np\n",
    "import matplotlib.pyplot as plt"
   ]
  },
  {
   "cell_type": "code",
   "execution_count": 2,
   "id": "dbbcf0f2-77f6-4016-9e0c-73667611c742",
   "metadata": {},
   "outputs": [],
   "source": [
    "def xy_cart_plane(size):\n",
    "    fig, ax = plt.subplots(figsize=(5, 5))\n",
    "    ax.set_aspect('equal')\n",
    "    \n",
    "    ax.set_xlim([-(size+1), size+1])\n",
    "    ax.set_ylim([-(size+1), size+1])\n",
    "    \n",
    "    ax.spines.left.set_position('zero')\n",
    "    ax.spines.bottom.set_position('zero')\n",
    "    ax.spines.right.set_visible(False)\n",
    "    ax.spines.top.set_visible(False)\n",
    "    \n",
    "    ticks = np.arange(-size, size+1)\n",
    "    ax.set_xticks(ticks[ticks != 0])\n",
    "    ax.set_yticks(ticks[ticks != 0])\n",
    "    \n",
    "    ax.grid(color='grey', linestyle='dotted')\n",
    "    \n",
    "    ax.plot(1, 0, \">k\", transform=ax.get_yaxis_transform(), clip_on=False)\n",
    "    ax.plot(0, 1, \"^k\", transform=ax.get_xaxis_transform(), clip_on=False)\n",
    "    \n",
    "    ax.set_xlabel('x', size=14, labelpad=-23, x=1.04)\n",
    "    ax.set_ylabel('y', size=14, labelpad=-23, y=1.04, rotation='horizontal')\n",
    "\n",
    "    return ax"
   ]
  },
  {
   "cell_type": "code",
   "execution_count": 7,
   "id": "42df98ad-e106-44c3-9ad2-b8e7b02856c5",
   "metadata": {},
   "outputs": [
    {
     "name": "stdout",
     "output_type": "stream",
     "text": [
      "[[ 0.9    -1.9   ]\n",
      " [ 0.99   -1.99  ]\n",
      " [ 0.999  -1.999 ]\n",
      " [ 0.999  -1.999 ]\n",
      " [ 1.1     2.1   ]\n",
      " [ 1.01    2.01  ]\n",
      " [ 1.001   2.001 ]\n",
      " [ 1.0001  2.0001]]\n"
     ]
    }
   ],
   "source": [
    "# 30 & 31\n",
    "xs = np.array([0.9, 0.99, 0.999, 0.999, 1.1, 1.01, 1.001, 1.0001])\n",
    "ys = (xs**2 - 1)/(np.abs(xs - 1))\n",
    "print(np.column_stack((xs, ys)))\n",
    "\n",
    "# the two sided limit as x approaches 1 is undefined, or does not exist."
   ]
  },
  {
   "cell_type": "code",
   "execution_count": 9,
   "id": "bf3d0231-6c3f-49ca-a8e1-88ed3a485f12",
   "metadata": {},
   "outputs": [
    {
     "name": "stdout",
     "output_type": "stream",
     "text": [
      "[[-1.00000000e-02  2.73199903e+00]\n",
      " [-1.00000000e-03  2.71964222e+00]\n",
      " [-1.00000000e-04  2.71841776e+00]\n",
      " [-1.00000000e-05  2.71829542e+00]\n",
      " [ 1.00000000e-02  2.70481383e+00]\n",
      " [ 1.00000000e-03  2.71692393e+00]\n",
      " [ 1.00000000e-04  2.71814593e+00]\n",
      " [ 1.00000000e-05  2.71826824e+00]]\n",
      "2.718281828459045\n"
     ]
    }
   ],
   "source": [
    "# 32 & 33 & 24\n",
    "xs = np.array([-0.01, -0.001, -0.0001, -0.00001, 0.01, 0.001, 0.0001, 0.00001])\n",
    "ys = (1 + xs)**(1/xs)\n",
    "print(np.column_stack((xs, ys)))\n",
    "\n",
    "# the table indicates that the limit of f(x) as x approaches 0 is ~2.718 or more specifically e.\n",
    "\n",
    "print(np.e)"
   ]
  },
  {
   "cell_type": "code",
   "execution_count": null,
   "id": "3e697622-b6bb-4df9-b681-f2357d72f79e",
   "metadata": {},
   "outputs": [],
   "source": []
  }
 ],
 "metadata": {
  "kernelspec": {
   "display_name": "Python 3 (ipykernel)",
   "language": "python",
   "name": "python3"
  },
  "language_info": {
   "codemirror_mode": {
    "name": "ipython",
    "version": 3
   },
   "file_extension": ".py",
   "mimetype": "text/x-python",
   "name": "python",
   "nbconvert_exporter": "python",
   "pygments_lexer": "ipython3",
   "version": "3.11.4"
  }
 },
 "nbformat": 4,
 "nbformat_minor": 5
}
