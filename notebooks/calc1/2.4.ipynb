{
 "cells": [
  {
   "cell_type": "code",
   "execution_count": 1,
   "id": "67b226cf-b5da-4ef6-8fea-0b8f5b28aa81",
   "metadata": {},
   "outputs": [],
   "source": [
    "import math\n",
    "import numpy as np\n",
    "import matplotlib.pyplot as plt"
   ]
  },
  {
   "cell_type": "code",
   "execution_count": 2,
   "id": "aace15ac-48c7-47cc-a2fd-4b3bb16bcc4f",
   "metadata": {},
   "outputs": [],
   "source": [
    "def xy_cart_plane(size):\n",
    "    fig, ax = plt.subplots(figsize=(5, 5))\n",
    "    ax.set_aspect('equal')\n",
    "    \n",
    "    ax.set_xlim([-(size+1), size+1])\n",
    "    ax.set_ylim([-(size+1), size+1])\n",
    "    \n",
    "    ax.spines.left.set_position('zero')\n",
    "    ax.spines.bottom.set_position('zero')\n",
    "    ax.spines.right.set_visible(False)\n",
    "    ax.spines.top.set_visible(False)\n",
    "    \n",
    "    ticks = np.arange(-size, size+1)\n",
    "    ax.set_xticks(ticks[ticks != 0])\n",
    "    ax.set_yticks(ticks[ticks != 0])\n",
    "    \n",
    "    ax.grid(color='grey', linestyle='dotted')\n",
    "    \n",
    "    ax.plot(1, 0, \">k\", transform=ax.get_yaxis_transform(), clip_on=False)\n",
    "    ax.plot(0, 1, \"^k\", transform=ax.get_xaxis_transform(), clip_on=False)\n",
    "    \n",
    "    ax.set_xlabel('x', size=14, labelpad=-23, x=1.04)\n",
    "    ax.set_ylabel('y', size=14, labelpad=-23, y=1.04, rotation='horizontal')\n",
    "\n",
    "    return ax"
   ]
  },
  {
   "cell_type": "code",
   "execution_count": 11,
   "id": "695d80be-2913-464b-b478-b061f6ba01d9",
   "metadata": {},
   "outputs": [
    {
     "name": "stdout",
     "output_type": "stream",
     "text": [
      "2.378414230005442\n",
      "2.5936791093020193\n",
      "2.8284271247461903\n",
      "1.953125\n",
      "2.599609375\n",
      "3.375\n",
      "1.3347623567607556\n",
      "1.3740103070968104\n"
     ]
    }
   ],
   "source": [
    "# 153\n",
    "print(2**1.25)\n",
    "print(2**1.375)\n",
    "print(2**1.5)\n",
    "print(1.25**3)\n",
    "print(1.375**3)\n",
    "print(1.5**3)\n",
    "\n",
    "print(np.cbrt(2.378))\n",
    "print(np.cbrt(2.594))\n",
    "#print(np.log2(1.953))"
   ]
  },
  {
   "cell_type": "code",
   "execution_count": 12,
   "id": "1d9ee06a-b1ee-4b18-88de-01d1400c75e8",
   "metadata": {},
   "outputs": [
    {
     "name": "stdout",
     "output_type": "stream",
     "text": [
      "4803394.531153983\n"
     ]
    }
   ],
   "source": [
    "# 169\n",
    "print(1.6022e6*np.sqrt(8.988))"
   ]
  },
  {
   "cell_type": "code",
   "execution_count": null,
   "id": "9cc2333d-6523-4351-ae35-01a5fbcea956",
   "metadata": {},
   "outputs": [],
   "source": []
  }
 ],
 "metadata": {
  "kernelspec": {
   "display_name": "Python 3 (ipykernel)",
   "language": "python",
   "name": "python3"
  },
  "language_info": {
   "codemirror_mode": {
    "name": "ipython",
    "version": 3
   },
   "file_extension": ".py",
   "mimetype": "text/x-python",
   "name": "python",
   "nbconvert_exporter": "python",
   "pygments_lexer": "ipython3",
   "version": "3.11.4"
  }
 },
 "nbformat": 4,
 "nbformat_minor": 5
}
